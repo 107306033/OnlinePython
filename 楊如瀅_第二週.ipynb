{
 "cells": [
  {
   "cell_type": "markdown",
   "metadata": {},
   "source": [
    "# 第一題【猜數字遊戲】：\n",
    "#### 電腦由 1 到 100 「想」一個數字。你開始猜電腦想的數字, 太大或大小電腦會告訴你, 直到猜對。"
   ]
  },
  {
   "cell_type": "code",
   "execution_count": 2,
   "metadata": {},
   "outputs": [
    {
     "name": "stdout",
     "output_type": "stream",
     "text": [
      "Populating the interactive namespace from numpy and matplotlib\n"
     ]
    }
   ],
   "source": [
    "%pylab inline"
   ]
  },
  {
   "cell_type": "code",
   "execution_count": 77,
   "metadata": {},
   "outputs": [
    {
     "name": "stdout",
     "output_type": "stream",
     "text": [
      "Please guess a number between 1 and 10056\n",
      "Smaller!\n",
      "Please guess a number between 1 and 5630\n",
      "Smaller!\n",
      "Please guess a number between 1 and 3015\n",
      "Smaller!\n",
      "Please guess a number between 1 and 157\n",
      "Smaller!\n",
      "Please guess a number between 1 and 75\n",
      "Bigger!\n",
      "Please guess a number between 5 and 76\n",
      "Congrats! The number is 6\n"
     ]
    }
   ],
   "source": [
    "ans = randint(1,100)\n",
    "guess = 0\n",
    "a = 100\n",
    "b = 1\n",
    "while guess != ans:\n",
    "    guess = int(input(\"Please guess a number between {} and {}\".format(b,a)))\n",
    "    if(guess < ans):\n",
    "        print(\"Bigger!\")\n",
    "        b = guess\n",
    "    elif(guess > ans):\n",
    "        print(\"Smaller!\")\n",
    "        a = guess\n",
    "print(\"Congrats! The number is {}\".format(ans))"
   ]
  },
  {
   "cell_type": "markdown",
   "metadata": {},
   "source": [
    "# 第二題【感恩讚嘆機器人】：\n",
    "#### 請依照老師本週影片的作法，\n",
    "#### 製作出感恩讚嘆機器人，\n",
    "#### 也就是回應的格式一律是：\n",
    "#### 「感恩ＯＯ，讚嘆ＯＯ。」\n",
    "#### 範例：\n",
    "#### 「嗨，今天天氣很好，要一起去洞爺湖喝茶吃魚嗎？」\n",
    "#### 『感恩炎龍，讚嘆炎龍。』"
   ]
  },
  {
   "cell_type": "code",
   "execution_count": 36,
   "metadata": {},
   "outputs": [
    {
     "name": "stdout",
     "output_type": "stream",
     "text": [
      "Tell me something:hello\n",
      "感恩洗髮精,讚嘆洗髮精\n",
      "Tell me something:bye\n",
      "感恩洗髮精,讚嘆洗髮精\n"
     ]
    }
   ],
   "source": [
    "message = \" \"\n",
    "word = \"洗髮精\"\n",
    "while message != \"bye\":\n",
    "    message = input(\"Tell me something:\")\n",
    "    print(\"感恩{},讚嘆{}\".format(word,word))"
   ]
  },
  {
   "cell_type": "markdown",
   "metadata": {},
   "source": [
    "# 第三題 【寫個函數讓字串倒過來排】：\n",
    "#### 寫一個函數, 比如說叫 reverse,\n",
    "#### 然後輸入一個字串,\n",
    "#### st = “hello”\n",
    "#### reverse(“hello”)\n",
    "#### 就回傳這個字串\n",
    "#### ‘olleh’"
   ]
  },
  {
   "cell_type": "code",
   "execution_count": 45,
   "metadata": {},
   "outputs": [],
   "source": [
    "def reverse(x):\n",
    "    return x[::-1]"
   ]
  },
  {
   "cell_type": "code",
   "execution_count": 46,
   "metadata": {},
   "outputs": [
    {
     "data": {
      "text/plain": [
       "'olleh'"
      ]
     },
     "execution_count": 46,
     "metadata": {},
     "output_type": "execute_result"
    }
   ],
   "source": [
    "reverse(\"hello\")"
   ]
  },
  {
   "cell_type": "markdown",
   "metadata": {},
   "source": [
    "# 挑戰題一【天干地支】：\n",
    "\n",
    "#### 年份是用天干地支\n",
    "\n",
    "#### 天干:甲乙丙丁戊己庚辛壬癸\n",
    "\n",
    "#### 地支:子醜寅卯辰巳午未申酉戌亥\n",
    "\n",
    "#### 2014年是甲午年\n",
    "\n",
    "#### 2015年是乙未年\n",
    "\n",
    "#### …\n",
    "\n",
    "#### 輸出2014~2073是什麼年"
   ]
  },
  {
   "cell_type": "code",
   "execution_count": 52,
   "metadata": {},
   "outputs": [
    {
     "name": "stdout",
     "output_type": "stream",
     "text": [
      "2014 年是 甲午 年\n",
      "2015 年是 乙未 年\n",
      "2016 年是 丙申 年\n",
      "2017 年是 丁酉 年\n",
      "2018 年是 戊戌 年\n",
      "2019 年是 己亥 年\n",
      "2020 年是 庚子 年\n",
      "2021 年是 辛醜 年\n",
      "2022 年是 壬寅 年\n",
      "2023 年是 癸卯 年\n",
      "2024 年是 甲辰 年\n",
      "2025 年是 乙巳 年\n",
      "2026 年是 丙午 年\n",
      "2027 年是 丁未 年\n",
      "2028 年是 戊申 年\n",
      "2029 年是 己酉 年\n",
      "2030 年是 庚戌 年\n",
      "2031 年是 辛亥 年\n",
      "2032 年是 壬子 年\n",
      "2033 年是 癸醜 年\n",
      "2034 年是 甲寅 年\n",
      "2035 年是 乙卯 年\n",
      "2036 年是 丙辰 年\n",
      "2037 年是 丁巳 年\n",
      "2038 年是 戊午 年\n",
      "2039 年是 己未 年\n",
      "2040 年是 庚申 年\n",
      "2041 年是 辛酉 年\n",
      "2042 年是 壬戌 年\n",
      "2043 年是 癸亥 年\n",
      "2044 年是 甲子 年\n",
      "2045 年是 乙醜 年\n",
      "2046 年是 丙寅 年\n",
      "2047 年是 丁卯 年\n",
      "2048 年是 戊辰 年\n",
      "2049 年是 己巳 年\n",
      "2050 年是 庚午 年\n",
      "2051 年是 辛未 年\n",
      "2052 年是 壬申 年\n",
      "2053 年是 癸酉 年\n",
      "2054 年是 甲戌 年\n",
      "2055 年是 乙亥 年\n",
      "2056 年是 丙子 年\n",
      "2057 年是 丁醜 年\n",
      "2058 年是 戊寅 年\n",
      "2059 年是 己卯 年\n",
      "2060 年是 庚辰 年\n",
      "2061 年是 辛巳 年\n",
      "2062 年是 壬午 年\n",
      "2063 年是 癸未 年\n",
      "2064 年是 甲申 年\n",
      "2065 年是 乙酉 年\n",
      "2066 年是 丙戌 年\n",
      "2067 年是 丁亥 年\n",
      "2068 年是 戊子 年\n",
      "2069 年是 己醜 年\n",
      "2070 年是 庚寅 年\n",
      "2071 年是 辛卯 年\n",
      "2072 年是 壬辰 年\n",
      "2073 年是 癸巳 年\n"
     ]
    }
   ],
   "source": [
    "lista = [\"甲\",\"乙\",\"丙\",\"丁\",\"戊\",\"己\",\"庚\",\"辛\",\"壬\",\"癸\"]\n",
    "listb = [\"子\",\"醜\",\"寅\",\"卯\",\"辰\",\"巳\",\"午\",\"未\",\"申\",\"酉\",\"戌\",\"亥\"]\n",
    "a = 0\n",
    "b = 6\n",
    "for i in range(2014, 2074):\n",
    "    print(\"{} 年是 {}{} 年\".format(i,lista[a],listb[b]))\n",
    "    a = int((a + 1)%10)\n",
    "    b = int((b + 1)%12)"
   ]
  },
  {
   "cell_type": "markdown",
   "metadata": {},
   "source": [
    "# 挑戰題二【我有一棵樹】：\n",
    "\n",
    "#### 寫個 tree 函數, 給一個數字就會畫出如下的畫面。"
   ]
  },
  {
   "cell_type": "code",
   "execution_count": 70,
   "metadata": {},
   "outputs": [],
   "source": [
    "def tree(x):\n",
    "    a = int(x)\n",
    "    for i in range(x):\n",
    "        print(\" \" * a + \"*\" * (i * 2 + 1))\n",
    "        a = a - 1"
   ]
  },
  {
   "cell_type": "code",
   "execution_count": 71,
   "metadata": {},
   "outputs": [
    {
     "name": "stdout",
     "output_type": "stream",
     "text": [
      "      *\n",
      "     ***\n",
      "    *****\n",
      "   *******\n",
      "  *********\n",
      " ***********\n"
     ]
    }
   ],
   "source": [
    "tree(6)"
   ]
  },
  {
   "cell_type": "code",
   "execution_count": 72,
   "metadata": {},
   "outputs": [
    {
     "name": "stdout",
     "output_type": "stream",
     "text": [
      "          *\n",
      "         ***\n",
      "        *****\n",
      "       *******\n",
      "      *********\n",
      "     ***********\n",
      "    *************\n",
      "   ***************\n",
      "  *****************\n",
      " *******************\n"
     ]
    }
   ],
   "source": [
    "tree(10)"
   ]
  }
 ],
 "metadata": {
  "kernelspec": {
   "display_name": "Python 3",
   "language": "python",
   "name": "python3"
  },
  "language_info": {
   "codemirror_mode": {
    "name": "ipython",
    "version": 3
   },
   "file_extension": ".py",
   "mimetype": "text/x-python",
   "name": "python",
   "nbconvert_exporter": "python",
   "pygments_lexer": "ipython3",
   "version": "3.7.4"
  }
 },
 "nbformat": 4,
 "nbformat_minor": 2
}
