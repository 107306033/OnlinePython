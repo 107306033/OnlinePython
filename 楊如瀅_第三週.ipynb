{
 "cells": [
  {
   "cell_type": "markdown",
   "metadata": {},
   "source": [
    "# 第一題：\n",
    "#### 有A,B,C三個班級，每班皆有10個學生，期中考結束後，老師希望計算各班級每位學生的加權平均成績。\n",
    " \n",
    "#### 請隨機產生3個班級的成績單,每班10人,共五科,權重為weights=[0.25,0.25,0.25,0.15,0.10]。\n",
    "#### 請算出班級加權平均成績，並以一個array輸出。"
   ]
  },
  {
   "cell_type": "code",
   "execution_count": 1,
   "metadata": {},
   "outputs": [],
   "source": [
    "%matplotlib inline\n",
    "import numpy as np\n",
    "import matplotlib.pyplot as plt"
   ]
  },
  {
   "cell_type": "code",
   "execution_count": 7,
   "metadata": {},
   "outputs": [],
   "source": [
    "grades = np.random.randint(0, 101, (3, 10, 5))"
   ]
  },
  {
   "cell_type": "code",
   "execution_count": 8,
   "metadata": {},
   "outputs": [
    {
     "data": {
      "text/plain": [
       "array([[[39, 17,  6, 71, 95],\n",
       "        [70, 42, 98, 78, 61],\n",
       "        [83, 90, 48,  3, 38],\n",
       "        [ 7, 83, 92, 36,  7],\n",
       "        [39, 13, 38, 91, 98],\n",
       "        [25, 13, 24, 36, 27],\n",
       "        [80, 11,  1, 23,  0],\n",
       "        [ 5, 57, 72,  4, 91],\n",
       "        [76, 22, 27, 10, 98],\n",
       "        [21, 39, 79, 10, 63]],\n",
       "\n",
       "       [[43, 14, 20, 87, 14],\n",
       "        [88, 54, 25, 16, 74],\n",
       "        [14, 90,  6, 95, 73],\n",
       "        [11, 11, 93, 75, 35],\n",
       "        [ 4, 45, 67, 17, 31],\n",
       "        [21, 94, 72, 23,  1],\n",
       "        [57, 58,  4, 27, 11],\n",
       "        [89, 62, 66, 42, 32],\n",
       "        [32, 28, 51, 31,  3],\n",
       "        [70, 36, 58, 20, 51]],\n",
       "\n",
       "       [[67, 19, 26, 32, 74],\n",
       "        [ 9, 17, 95,  2, 35],\n",
       "        [87, 41, 38, 62, 72],\n",
       "        [66, 94, 53,  3, 19],\n",
       "        [ 7, 80, 22, 26, 68],\n",
       "        [72, 88,  0, 55, 48],\n",
       "        [24, 74, 42,  5, 27],\n",
       "        [22, 85, 65,  9, 14],\n",
       "        [12, 59, 17, 49, 54],\n",
       "        [39,  5, 73, 67, 22]]])"
      ]
     },
     "execution_count": 8,
     "metadata": {},
     "output_type": "execute_result"
    }
   ],
   "source": [
    "grades"
   ]
  },
  {
   "cell_type": "code",
   "execution_count": 12,
   "metadata": {},
   "outputs": [
    {
     "name": "stdout",
     "output_type": "stream",
     "text": [
      "[[35.65 70.3  59.5  51.6  45.95 23.6  26.45 43.2  42.55 42.55]\n",
      " [33.7  51.55 49.05 43.5  34.65 50.3  34.9  63.75 32.7  49.1 ]\n",
      " [40.2  34.05 58.   55.6  37.95 53.05 38.45 45.75 34.75 41.5 ]]\n",
      "Total average of each class is:\n",
      "[44.135 44.32  43.93 ]\n"
     ]
    }
   ],
   "source": [
    "weights = [0.25,0.25,0.25,0.15,0.10]\n",
    "average = np.dot(grades, weights)\n",
    "print(average)\n",
    "print(\"Total average of each class is:\")\n",
    "print(np.mean(average, axis = 1))"
   ]
  },
  {
   "cell_type": "markdown",
   "metadata": {},
   "source": [
    "# 第二題：\n",
    "#### 向日葵班有40位學生，學期結束後，老師希望知道班上的期末成績相關資訊，作為下個學期教學的參考。\n",
    " \n",
    "#### 請隨機產生40筆0~100的數字作為向日葵班的成績分佈，接著列出最高分、最低分、及格人數(>=60)、平均數、標準差，並且以10分作為一個區間，使用圖表畫出各個區間的人數。"
   ]
  },
  {
   "cell_type": "code",
   "execution_count": 28,
   "metadata": {},
   "outputs": [
    {
     "name": "stdout",
     "output_type": "stream",
     "text": [
      "[15 42 29 76 37 37 69 97 15  7 53 37 36  5 19 73 18 36  1 34 61 50  9 81\n",
      " 66 68 81 61 70 35 17 61 50 96 31 28 50 31 76  7]\n",
      "Highest Score: \n",
      "97\n",
      "Lowest Score: \n",
      "1\n",
      "Scores above 60:(including 60)\n",
      "[76 69 97 73 61 81 66 68 81 61 70 61 96 76]\n",
      "Average: \n",
      "44.125\n",
      "Standard Deviation: \n",
      "25.923143617239017\n"
     ]
    },
    {
     "data": {
      "text/plain": [
       "(array([5., 5., 2., 9., 1., 4., 5., 5., 2., 2.]),\n",
       " array([ 1. , 10.6, 20.2, 29.8, 39.4, 49. , 58.6, 68.2, 77.8, 87.4, 97. ]),\n",
       " <a list of 10 Patch objects>)"
      ]
     },
     "execution_count": 28,
     "metadata": {},
     "output_type": "execute_result"
    },
    {
     "data": {
      "image/png": "[encoded data removed]",
      "text/plain": [
       "<Figure size 432x288 with 1 Axes>"
      ]
     },
     "metadata": {
      "needs_background": "light"
     },
     "output_type": "display_data"
    }
   ],
   "source": [
    "grades = np.random.randint(0,101,40)\n",
    "print(grades)\n",
    "print(\"Highest Score: \")\n",
    "print(np.max(grades))\n",
    "print(\"Lowest Score: \")\n",
    "print(np.min(grades))\n",
    "print(\"Scores above 60:(including 60)\")\n",
    "print(grades[grades >= 60])\n",
    "print(\"Average: \")\n",
    "print(np.mean(grades))\n",
    "print(\"Standard Deviation: \")\n",
    "print(np.std(grades))\n",
    "plt.hist(grades,bins=10, edgecolor=\"black\")"
   ]
  },
  {
   "cell_type": "markdown",
   "metadata": {},
   "source": [
    "# 挑戰題一：\n",
    "#### 請定義一個全班高微成績的函式，輸入是一個(3, 30, 3)的array，  \n",
    "#### 表示3個班級中30位學生的成績(小考，期中考，期末考)  。\n",
    "\n",
    "#### 目標輸出則是一個(3, 30, 1)的array，表示所有學生的期末成績，\n",
    "#### 期末成績計算方式如下：\n",
    "\n",
    "#### 1. 小考20%，期中考35%，期末考45%  \n",
    "#### 2. 期中考40%，期末考60%。  \n",
    "#### 擇優作為期末成績\n",
    " \n",
    "#### Hint\n",
    "#### * 可以用雙重for迴圈 分別跑過班級跟人\n",
    "#### * 可以先設一個array裝算出來的成績\n",
    "#### * 記得要用return "
   ]
  },
  {
   "cell_type": "code",
   "execution_count": 38,
   "metadata": {},
   "outputs": [
    {
     "data": {
      "text/plain": [
       "array([[[60.6],\n",
       "        [67.2],\n",
       "        [57.4],\n",
       "        [25.4],\n",
       "        [78. ],\n",
       "        [ 9.8],\n",
       "        [61.6],\n",
       "        [46.6],\n",
       "        [78.8],\n",
       "        [61.4],\n",
       "        [38.3],\n",
       "        [13.4],\n",
       "        [63.5],\n",
       "        [64.6],\n",
       "        [29.4],\n",
       "        [74.6],\n",
       "        [30.9],\n",
       "        [44.6],\n",
       "        [68. ],\n",
       "        [50.8],\n",
       "        [68.8],\n",
       "        [75.6],\n",
       "        [45. ],\n",
       "        [73.5],\n",
       "        [29.2],\n",
       "        [35.5],\n",
       "        [69.8],\n",
       "        [73.1],\n",
       "        [29. ],\n",
       "        [34.3]],\n",
       "\n",
       "       [[59.4],\n",
       "        [46.8],\n",
       "        [48.2],\n",
       "        [23.4],\n",
       "        [43.9],\n",
       "        [49. ],\n",
       "        [58.2],\n",
       "        [45.9],\n",
       "        [92.8],\n",
       "        [56.2],\n",
       "        [48.6],\n",
       "        [33.6],\n",
       "        [65.2],\n",
       "        [52.8],\n",
       "        [29.2],\n",
       "        [50.8],\n",
       "        [47. ],\n",
       "        [40. ],\n",
       "        [51.4],\n",
       "        [54.8],\n",
       "        [62.8],\n",
       "        [67.2],\n",
       "        [40.5],\n",
       "        [57.6],\n",
       "        [45.8],\n",
       "        [32.8],\n",
       "        [60.5],\n",
       "        [36. ],\n",
       "        [26.8],\n",
       "        [69. ]],\n",
       "\n",
       "       [[55.8],\n",
       "        [29.2],\n",
       "        [59.6],\n",
       "        [38.8],\n",
       "        [58.3],\n",
       "        [21.2],\n",
       "        [63.4],\n",
       "        [39.1],\n",
       "        [61.4],\n",
       "        [37. ],\n",
       "        [56.8],\n",
       "        [44.6],\n",
       "        [55.4],\n",
       "        [71.6],\n",
       "        [37.4],\n",
       "        [73.6],\n",
       "        [35.8],\n",
       "        [57.1],\n",
       "        [59.6],\n",
       "        [72.8],\n",
       "        [39.6],\n",
       "        [16.2],\n",
       "        [36. ],\n",
       "        [43.4],\n",
       "        [33.1],\n",
       "        [14.6],\n",
       "        [62.4],\n",
       "        [46. ],\n",
       "        [59.6],\n",
       "        [62.4]]])"
      ]
     },
     "execution_count": 38,
     "metadata": {},
     "output_type": "execute_result"
    }
   ],
   "source": [
    "grades = np.random.randint(0,101,(3,30,3))\n",
    "weights1 = np.array([0.2,0.35,0.45])\n",
    "weights2 = np.array([0,0.4,0.6])\n",
    "score1 = np.dot(grades,weights1)\n",
    "score2 = np.dot(grades,weights2)\n",
    "finalScore = np.zeros((3,30,1))\n",
    "for i in range(3):\n",
    "    for j in range(30):\n",
    "        finalScore[i,j] = round(max(score1[i,j],score2[i,j]),1)\n",
    "finalScore"
   ]
  },
  {
   "cell_type": "markdown",
   "metadata": {},
   "source": [
    "# 挑戰題二：\n",
    "#### 題目：給定一個矩陣m，裡面的值都大於0。\n",
    "#### 請將矩陣m裡大於等於1的數字都變成1，小於1的變成0。\n",
    "#### 提示：使用巢狀迴圈(nested loop)加判斷式"
   ]
  },
  {
   "cell_type": "code",
   "execution_count": 56,
   "metadata": {},
   "outputs": [
    {
     "name": "stdout",
     "output_type": "stream",
     "text": [
      "The original one:\n",
      "[[9 7 3]\n",
      " [4 5 8]\n",
      " [7 0 2]]\n",
      "The new one:\n",
      "[[1. 1. 1.]\n",
      " [1. 1. 1.]\n",
      " [1. 0. 1.]]\n"
     ]
    }
   ],
   "source": [
    "old = np.random.randint(0,10,(3,3))\n",
    "print(\"The original one:\")\n",
    "print(old)\n",
    "new = np.zeros((3,3))\n",
    "for i in range(3):\n",
    "    for j in range(3):\n",
    "        if old[i,j] >= 1:\n",
    "            new[i,j] = 1\n",
    "        elif old[i,j] < 1:\n",
    "            new[i,j] = 0\n",
    "print(\"The new one:\")            \n",
    "print(new)"
   ]
  }
 ],
 "metadata": {
  "kernelspec": {
   "display_name": "Python 3",
   "language": "python",
   "name": "python3"
  },
  "language_info": {
   "codemirror_mode": {
    "name": "ipython",
    "version": 3
   },
   "file_extension": ".py",
   "mimetype": "text/x-python",
   "name": "python",
   "nbconvert_exporter": "python",
   "pygments_lexer": "ipython3",
   "version": "3.7.4"
  }
 },
 "nbformat": 4,
 "nbformat_minor": 2
}
